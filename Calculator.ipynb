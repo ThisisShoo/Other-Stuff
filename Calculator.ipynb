{
 "cells": [
  {
   "cell_type": "code",
   "execution_count": 1,
   "metadata": {},
   "outputs": [],
   "source": [
    "import numpy as np\n",
    "from numpy import sin, cos, tan, sqrt\n",
    "import scipy\n",
    "import matplotlib\n",
    "from matplotlib import pyplot as plt\n",
    "import math\n",
    "from astropy import units as u\n",
    "from astropy import constants as cons\n",
    "from matplotlib import rcParams\n",
    "from scipy.optimize import curve_fit\n",
    "\n",
    "rcParams.update({'font.size': 25, 'legend.fontsize': 20, 'axes.titlesize': 24})\n",
    "\n",
    "# Novel units\n",
    "u.atm = 101.325 * u.kPa\n",
    "u.dynes = 1e-5 * u.N\n",
    "u.erg = 1e-7 * u.J\n",
    "\n",
    "# Constants\n",
    "G_big = (cons.G).to(u.pc**3 / (u.Msun * u.s**2))\n",
    "c_big = (cons.c).to(u.pc/u.s)\n",
    "Boltzman_cons = 1.381 * 10**-23 * (u.kg * u.m**2 * u.s**-2) * u.K**-1\n",
    "Stef_Boltzman_cons = 5.67 * 10**-8 * u.W * u.m**-2 * u.K**-4\n",
    "Ideal_gas_cons = 8.315 * u.J/(u.mol*u.K)\n",
    "Avogadro = 6.0221415*10**23 / u.mol\n",
    "R_atm = 0.082057 * (u.L * u.atm) / (u.K * u.mol)\n",
    "R_atm_J = 8.31 * u.J/u.mol/u.K\n",
    "miu = 4 * np.pi * 10**-7 * u.N/u.A**2\n",
    "Hubble_cons = 70 * u.km * u.s**-1 * u.Mpc**-1\n",
    "Wien_Displacement_cons = 2.897 * 10**-3 * u.m*u.K\n",
    "m_H = 1.6735*10**-27*u.kg\n",
    "m_e = 9.109 * 10**-31 * u.kg\n",
    "\n",
    "def atomic_mass_to_kg (amu):\n",
    "    \"\"\"Converts amu to kg, input without unit\"\"\"\n",
    "    return (amu /Avogadro * u.g / u.mol).to(u.kg)\n",
    "\n",
    "def V_rms(T, m):\n",
    "    \"\"\"Returns random mean square velocity\"\"\"\n",
    "    return (np.sqrt((3 * Boltzman_cons * T) / m)).to(u.m/u.s)\n",
    "\n",
    "def grav_binding_eng (M, R):\n",
    "    \"\"\"Returns gravitational binding energy given mass and radius\"\"\"\n",
    "    return ((3*cons.G * M**2) / (5 * R)).to(u.J)\n",
    "\n",
    "def solve_quadratic(a,b,c):\n",
    "    \"\"\"Solves quadratic formulas\"\"\"\n",
    "    return [(-b + np.sqrt(b**2 - 4 * a * c))/(2*a), (-b - np.sqrt(b**2 - 4 * a * c))/(2*a)]\n",
    "\n",
    "def weighted_mean(x, w):\n",
    "    \"\"\"Returns weighted mean of x, with weights w\"\"\"\n",
    "    dummy = 0\n",
    "    for i in range(len(x)):\n",
    "        dummy += w[i] * x[i]\n",
    "    dummy1 = sum(w)\n",
    "    return dummy/dummy1"
   ]
  }
 ],
 "metadata": {
  "interpreter": {
   "hash": "022fea222fc5616e63d24ce6ba1ddfcb2ab36d6c57e56618817c481a072c9519"
  },
  "kernelspec": {
   "display_name": "Python 3.9.7 64-bit",
   "name": "python3"
  },
  "language_info": {
   "codemirror_mode": {
    "name": "ipython",
    "version": 3
   },
   "file_extension": ".py",
   "mimetype": "text/x-python",
   "name": "python",
   "nbconvert_exporter": "python",
   "pygments_lexer": "ipython3",
   "version": "3.9.9"
  },
  "metadata": {
   "interpreter": {
    "hash": "cb591c2f06aca6d07362c3d03f62f81bda5fa04ef99ad5fa6b3a616c3c711d2a"
   }
  },
  "orig_nbformat": 2
 },
 "nbformat": 4,
 "nbformat_minor": 2
}
